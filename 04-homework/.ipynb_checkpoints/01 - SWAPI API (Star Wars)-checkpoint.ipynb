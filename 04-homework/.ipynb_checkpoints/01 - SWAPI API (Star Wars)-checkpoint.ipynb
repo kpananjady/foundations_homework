{
 "cells": [
  {
   "cell_type": "markdown",
   "metadata": {},
   "source": [
    "# SWAPI (Star Wars)\n",
    "\n",
    "Answer the following questions using the [Star Wars](https://swapi.co/). I've added three cells for each question but you're free to use more or less! Hold `Shift` and hit `Enter` to run a cell, and use the `+` on the top left to add a new cell to a notebook.\n",
    "\n",
    "If you spend some time reading the documentation your life will probably be a little bit easier!\n",
    "\n",
    "## 0) Import any libraries you might need\n",
    "\n",
    "- *Tip: We're going to be downloading things from the internet, so we probably need `requests`.*"
   ]
  },
  {
   "cell_type": "code",
   "execution_count": 1,
   "metadata": {},
   "outputs": [],
   "source": [
    "import requests"
   ]
  },
  {
   "cell_type": "code",
   "execution_count": null,
   "metadata": {},
   "outputs": [],
   "source": []
  },
  {
   "cell_type": "code",
   "execution_count": null,
   "metadata": {},
   "outputs": [],
   "source": []
  },
  {
   "cell_type": "markdown",
   "metadata": {},
   "source": [
    "## 1) Make a request to the Star Wars API\n",
    "\n",
    "I've heard there's a new Star Wars film called **Solo**, but it isn't in SWAPI!\n",
    "\n",
    "The most recent film it contains has an ID of 7. Make a request for that film and look at the data."
   ]
  },
  {
   "cell_type": "code",
   "execution_count": 67,
   "metadata": {},
   "outputs": [
    {
     "name": "stdout",
     "output_type": "stream",
     "text": [
      "<class 'dict'>\n",
      "{'title': 'The Force Awakens', 'episode_id': 7, 'opening_crawl': \"Luke Skywalker has vanished.\\r\\nIn his absence, the sinister\\r\\nFIRST ORDER has risen from\\r\\nthe ashes of the Empire\\r\\nand will not rest until\\r\\nSkywalker, the last Jedi,\\r\\nhas been destroyed.\\r\\n \\r\\nWith the support of the\\r\\nREPUBLIC, General Leia Organa\\r\\nleads a brave RESISTANCE.\\r\\nShe is desperate to find her\\r\\nbrother Luke and gain his\\r\\nhelp in restoring peace and\\r\\njustice to the galaxy.\\r\\n \\r\\nLeia has sent her most daring\\r\\npilot on a secret mission\\r\\nto Jakku, where an old ally\\r\\nhas discovered a clue to\\r\\nLuke's whereabouts....\", 'director': 'J. J. Abrams', 'producer': 'Kathleen Kennedy, J. J. Abrams, Bryan Burk', 'release_date': '2015-12-11', 'characters': ['https://swapi.co/api/people/1/', 'https://swapi.co/api/people/3/', 'https://swapi.co/api/people/5/', 'https://swapi.co/api/people/13/', 'https://swapi.co/api/people/14/', 'https://swapi.co/api/people/27/', 'https://swapi.co/api/people/84/', 'https://swapi.co/api/people/85/', 'https://swapi.co/api/people/86/', 'https://swapi.co/api/people/87/', 'https://swapi.co/api/people/88/'], 'planets': ['https://swapi.co/api/planets/61/'], 'starships': ['https://swapi.co/api/starships/77/', 'https://swapi.co/api/starships/10/'], 'vehicles': [], 'species': ['https://swapi.co/api/species/3/', 'https://swapi.co/api/species/2/', 'https://swapi.co/api/species/1/'], 'created': '2015-04-17T06:51:30.504780Z', 'edited': '2015-12-17T14:31:47.617768Z', 'url': 'https://swapi.co/api/films/7/'}\n"
     ]
    },
    {
     "data": {
      "text/plain": [
       "'J. J. Abrams'"
      ]
     },
     "execution_count": 67,
     "metadata": {},
     "output_type": "execute_result"
    }
   ],
   "source": [
    "response = requests.get('https://swapi.co/api/films/7/')\n",
    "data = response.json()\n",
    "print(type(data))\n",
    "print(data)\n",
    "data.keys()\n",
    "data['director']"
   ]
  },
  {
   "cell_type": "code",
   "execution_count": null,
   "metadata": {},
   "outputs": [],
   "source": []
  },
  {
   "cell_type": "code",
   "execution_count": null,
   "metadata": {},
   "outputs": [],
   "source": []
  },
  {
   "cell_type": "markdown",
   "metadata": {},
   "source": [
    "## 2) What is that film's name, and when was it released?\n",
    "\n",
    "Please print **only** the title and the release date. You can guess at the keys, but I recommend checking the documentation."
   ]
  },
  {
   "cell_type": "code",
   "execution_count": 7,
   "metadata": {},
   "outputs": [
    {
     "name": "stdout",
     "output_type": "stream",
     "text": [
      "The Force Awakens\n"
     ]
    }
   ],
   "source": [
    "print(data['title'])"
   ]
  },
  {
   "cell_type": "code",
   "execution_count": 9,
   "metadata": {},
   "outputs": [
    {
     "name": "stdout",
     "output_type": "stream",
     "text": [
      "2015-12-11\n"
     ]
    }
   ],
   "source": [
    "print(data['release_date'])"
   ]
  },
  {
   "cell_type": "code",
   "execution_count": null,
   "metadata": {},
   "outputs": [],
   "source": []
  },
  {
   "cell_type": "markdown",
   "metadata": {},
   "source": [
    "## 3) But I want Han Solo! Use the API to search for people named \"Solo\"."
   ]
  },
  {
   "cell_type": "code",
   "execution_count": 31,
   "metadata": {},
   "outputs": [
    {
     "name": "stdout",
     "output_type": "stream",
     "text": [
      "14\n"
     ]
    }
   ],
   "source": [
    "for i in range(1,100):\n",
    "    response = requests.get(f'https://swapi.co/api/people/{i}/')\n",
    "    data = response.json()\n",
    "    if data['name'] == 'Han Solo':\n",
    "        id_no = i\n",
    "        break\n",
    "print(id_no)        "
   ]
  },
  {
   "cell_type": "code",
   "execution_count": 32,
   "metadata": {},
   "outputs": [
    {
     "name": "stdout",
     "output_type": "stream",
     "text": [
      "{'name': 'Han Solo', 'height': '180', 'mass': '80', 'hair_color': 'brown', 'skin_color': 'fair', 'eye_color': 'brown', 'birth_year': '29BBY', 'gender': 'male', 'homeworld': 'https://swapi.co/api/planets/22/', 'films': ['https://swapi.co/api/films/2/', 'https://swapi.co/api/films/3/', 'https://swapi.co/api/films/1/', 'https://swapi.co/api/films/7/'], 'species': ['https://swapi.co/api/species/1/'], 'vehicles': [], 'starships': ['https://swapi.co/api/starships/10/', 'https://swapi.co/api/starships/22/'], 'created': '2014-12-10T16:49:14.582000Z', 'edited': '2014-12-20T21:17:50.334000Z', 'url': 'https://swapi.co/api/people/14/'}\n"
     ]
    }
   ],
   "source": [
    "response = requests.get(f'https://swapi.co/api/people/14/')\n",
    "data = response.json()\n",
    "print(data)"
   ]
  },
  {
   "cell_type": "code",
   "execution_count": null,
   "metadata": {},
   "outputs": [],
   "source": []
  },
  {
   "cell_type": "markdown",
   "metadata": {},
   "source": [
    "## 4) How many results did you get?\n",
    "\n",
    "Show **two different ways** of displaying this number.\n",
    "\n",
    "- *Tip: One uses the API, and one uses a Python function*"
   ]
  },
  {
   "cell_type": "code",
   "execution_count": 35,
   "metadata": {},
   "outputs": [
    {
     "name": "stdout",
     "output_type": "stream",
     "text": [
      "{'count': 1, 'next': None, 'previous': None, 'results': [{'name': 'Han Solo', 'height': '180', 'mass': '80', 'hair_color': 'brown', 'skin_color': 'fair', 'eye_color': 'brown', 'birth_year': '29BBY', 'gender': 'male', 'homeworld': 'https://swapi.co/api/planets/22/', 'films': ['https://swapi.co/api/films/2/', 'https://swapi.co/api/films/3/', 'https://swapi.co/api/films/1/', 'https://swapi.co/api/films/7/'], 'species': ['https://swapi.co/api/species/1/'], 'vehicles': [], 'starships': ['https://swapi.co/api/starships/10/', 'https://swapi.co/api/starships/22/'], 'created': '2014-12-10T16:49:14.582000Z', 'edited': '2014-12-20T21:17:50.334000Z', 'url': 'https://swapi.co/api/people/14/'}]}\n"
     ]
    }
   ],
   "source": [
    "response = requests.get('https://swapi.co/api/people/?search=Solo')\n",
    "data = response.json()\n",
    "print(data)"
   ]
  },
  {
   "cell_type": "code",
   "execution_count": 47,
   "metadata": {},
   "outputs": [
    {
     "name": "stdout",
     "output_type": "stream",
     "text": [
      "14\n"
     ]
    }
   ],
   "source": [
    "id_no = (data['results'][0]['url'][-3:-1])\n",
    "print(id_no)"
   ]
  },
  {
   "cell_type": "code",
   "execution_count": 48,
   "metadata": {},
   "outputs": [
    {
     "name": "stdout",
     "output_type": "stream",
     "text": [
      "{'name': 'Han Solo', 'height': '180', 'mass': '80', 'hair_color': 'brown', 'skin_color': 'fair', 'eye_color': 'brown', 'birth_year': '29BBY', 'gender': 'male', 'homeworld': 'https://swapi.co/api/planets/22/', 'films': ['https://swapi.co/api/films/2/', 'https://swapi.co/api/films/3/', 'https://swapi.co/api/films/1/', 'https://swapi.co/api/films/7/'], 'species': ['https://swapi.co/api/species/1/'], 'vehicles': [], 'starships': ['https://swapi.co/api/starships/10/', 'https://swapi.co/api/starships/22/'], 'created': '2014-12-10T16:49:14.582000Z', 'edited': '2014-12-20T21:17:50.334000Z', 'url': 'https://swapi.co/api/people/14/'}\n"
     ]
    }
   ],
   "source": [
    "response = requests.get(f'https://swapi.co/api/people/14/')\n",
    "data = response.json()\n",
    "print(data)"
   ]
  },
  {
   "cell_type": "markdown",
   "metadata": {},
   "source": [
    "## 5) Write me a sentence about Han Solo\n",
    "\n",
    "Your sentence should be say `\"____ has _____ hair, is _____cm tall and weighs ____kg.\"` - make sure you have **no spcaes** between the numbers and `cm`/`kg`."
   ]
  },
  {
   "cell_type": "code",
   "execution_count": 50,
   "metadata": {},
   "outputs": [
    {
     "name": "stdout",
     "output_type": "stream",
     "text": [
      "Han Solo has brown hair; is 180cm tall and weighs 80kg.\n"
     ]
    }
   ],
   "source": [
    "print(f\"{data['name']} has {data['hair_color']} hair; is {data['height']}cm tall and weighs {data['mass']}kg.\")"
   ]
  },
  {
   "cell_type": "code",
   "execution_count": null,
   "metadata": {},
   "outputs": [],
   "source": []
  },
  {
   "cell_type": "code",
   "execution_count": null,
   "metadata": {},
   "outputs": [],
   "source": []
  },
  {
   "cell_type": "markdown",
   "metadata": {},
   "source": [
    "## 5) Search for C-3PO"
   ]
  },
  {
   "cell_type": "code",
   "execution_count": 51,
   "metadata": {},
   "outputs": [
    {
     "name": "stdout",
     "output_type": "stream",
     "text": [
      "{'count': 1, 'next': None, 'previous': None, 'results': [{'name': 'C-3PO', 'height': '167', 'mass': '75', 'hair_color': 'n/a', 'skin_color': 'gold', 'eye_color': 'yellow', 'birth_year': '112BBY', 'gender': 'n/a', 'homeworld': 'https://swapi.co/api/planets/1/', 'films': ['https://swapi.co/api/films/2/', 'https://swapi.co/api/films/5/', 'https://swapi.co/api/films/4/', 'https://swapi.co/api/films/6/', 'https://swapi.co/api/films/3/', 'https://swapi.co/api/films/1/'], 'species': ['https://swapi.co/api/species/2/'], 'vehicles': [], 'starships': [], 'created': '2014-12-10T15:10:51.357000Z', 'edited': '2014-12-20T21:17:50.309000Z', 'url': 'https://swapi.co/api/people/2/'}]}\n"
     ]
    }
   ],
   "source": [
    "response = requests.get('https://swapi.co/api/people/?search=3po')\n",
    "data = response.json()\n",
    "print(data)"
   ]
  },
  {
   "cell_type": "code",
   "execution_count": null,
   "metadata": {},
   "outputs": [],
   "source": []
  },
  {
   "cell_type": "code",
   "execution_count": null,
   "metadata": {},
   "outputs": [],
   "source": []
  },
  {
   "cell_type": "markdown",
   "metadata": {},
   "source": [
    "## 6) What URL can tell me more about his species? Make a request to the corrent endpoint.\n",
    "\n",
    "Spoiler: he's a **droid**. Are robots a species? I guess so, maybe."
   ]
  },
  {
   "cell_type": "code",
   "execution_count": 53,
   "metadata": {},
   "outputs": [
    {
     "name": "stdout",
     "output_type": "stream",
     "text": [
      "['https://swapi.co/api/species/2/']\n"
     ]
    }
   ],
   "source": [
    "species = (data['results'][0]['species'])\n",
    "print(species)"
   ]
  },
  {
   "cell_type": "code",
   "execution_count": 54,
   "metadata": {},
   "outputs": [],
   "source": [
    "response = requests.get('https://swapi.co/api/species/2/')\n",
    "data_species = response.json()"
   ]
  },
  {
   "cell_type": "code",
   "execution_count": 55,
   "metadata": {},
   "outputs": [
    {
     "name": "stdout",
     "output_type": "stream",
     "text": [
      "{'name': 'Droid', 'classification': 'artificial', 'designation': 'sentient', 'average_height': 'n/a', 'skin_colors': 'n/a', 'hair_colors': 'n/a', 'eye_colors': 'n/a', 'average_lifespan': 'indefinite', 'homeworld': None, 'language': 'n/a', 'people': ['https://swapi.co/api/people/2/', 'https://swapi.co/api/people/3/', 'https://swapi.co/api/people/8/', 'https://swapi.co/api/people/23/', 'https://swapi.co/api/people/87/'], 'films': ['https://swapi.co/api/films/2/', 'https://swapi.co/api/films/7/', 'https://swapi.co/api/films/5/', 'https://swapi.co/api/films/4/', 'https://swapi.co/api/films/6/', 'https://swapi.co/api/films/3/', 'https://swapi.co/api/films/1/'], 'created': '2014-12-10T15:16:16.259000Z', 'edited': '2015-04-17T06:59:43.869528Z', 'url': 'https://swapi.co/api/species/2/'}\n"
     ]
    }
   ],
   "source": [
    "print(data_species)"
   ]
  },
  {
   "cell_type": "markdown",
   "metadata": {},
   "source": [
    "## 7) Print out the URL of every droid\n",
    "\n",
    "* *Tip: life will be easier if you don't say `for droid in...` or `for person in` because you aren't looping through droids or people. What are you looping through?*"
   ]
  },
  {
   "cell_type": "code",
   "execution_count": 56,
   "metadata": {},
   "outputs": [
    {
     "name": "stdout",
     "output_type": "stream",
     "text": [
      "https://swapi.co/api/people/2/\n",
      "https://swapi.co/api/people/3/\n",
      "https://swapi.co/api/people/8/\n",
      "https://swapi.co/api/people/23/\n",
      "https://swapi.co/api/people/87/\n"
     ]
    }
   ],
   "source": [
    "for url in data_species['people']:\n",
    "    print(url)"
   ]
  },
  {
   "cell_type": "code",
   "execution_count": null,
   "metadata": {},
   "outputs": [],
   "source": []
  },
  {
   "cell_type": "code",
   "execution_count": null,
   "metadata": {},
   "outputs": [],
   "source": []
  },
  {
   "cell_type": "markdown",
   "metadata": {},
   "source": [
    "## 8) Print out the name of every droid\n",
    "\n",
    "* *Tip: You should start from the last answer, but add more stuff in!*\n",
    "* *Tip: You'll need to make a request every time you're in the loop*\n",
    "* *Tip: Be careful - f you re-use the variable name `data` you'll erase your old `data` variable*"
   ]
  },
  {
   "cell_type": "code",
   "execution_count": 60,
   "metadata": {},
   "outputs": [
    {
     "name": "stdout",
     "output_type": "stream",
     "text": [
      "C-3PO\n",
      "R2-D2\n",
      "R5-D4\n",
      "IG-88\n",
      "BB8\n"
     ]
    }
   ],
   "source": [
    "for url in data_species['people']:\n",
    "    response = requests.get(url)\n",
    "    data_species_url = response.json()\n",
    "    print(data_species_url['name'])"
   ]
  },
  {
   "cell_type": "code",
   "execution_count": null,
   "metadata": {},
   "outputs": [],
   "source": []
  },
  {
   "cell_type": "code",
   "execution_count": null,
   "metadata": {},
   "outputs": [],
   "source": []
  },
  {
   "cell_type": "markdown",
   "metadata": {},
   "source": [
    "## 9) Print out more about the droid\n",
    "\n",
    "Count the number of films for each droid, printing `\"___ was in ___ films\"` for each of them\n",
    "\n",
    "* *Tip: You might want to look at a single droid result, or print the data in the for loop, so you know how to get the films. Or read the documentation!*"
   ]
  },
  {
   "cell_type": "code",
   "execution_count": 62,
   "metadata": {},
   "outputs": [
    {
     "name": "stdout",
     "output_type": "stream",
     "text": [
      "C-3PO was in 7 films\n",
      "R2-D2 was in 7 films\n",
      "R5-D4 was in 7 films\n",
      "IG-88 was in 7 films\n",
      "BB8 was in 7 films\n"
     ]
    }
   ],
   "source": [
    "for url in data_species['people']:\n",
    "    response = requests.get(url)\n",
    "    data_species_url = response.json()\n",
    "    print(f\"{data_species_url['name']} was in {len(data_species['films'])} films\")"
   ]
  },
  {
   "cell_type": "code",
   "execution_count": null,
   "metadata": {},
   "outputs": [],
   "source": []
  },
  {
   "cell_type": "code",
   "execution_count": null,
   "metadata": {},
   "outputs": [],
   "source": []
  },
  {
   "cell_type": "markdown",
   "metadata": {},
   "source": [
    "## 10) Let's be smart and cache the results *[DIFFICULT, maybe!]*\n",
    "\n",
    "So far we've been using a for loop to go through each droid. Every droid, one more request. Every time we want more data, we run the loops again. I don't want that guy to get angry that we're asking for so much data!\n",
    "\n",
    "We want to our list of **droid urls** and turn it into a **list of dictionaries about those droids**. Save it as a variable called `droids`. If you get it correct, the following code should work if you cut and paste it.\n",
    "\n",
    "```python\n",
    "for droid in droids:\n",
    "    print(droid['name'])\n",
    "```\n",
    "\n",
    "* *Tip: Use a list comprehension*\n",
    "* *Tip: So far we've done `response = requests.get..` and `response.json()` on separate lines. You'll need to combine them!*"
   ]
  },
  {
   "cell_type": "code",
   "execution_count": 91,
   "metadata": {},
   "outputs": [
    {
     "name": "stdout",
     "output_type": "stream",
     "text": [
      "C-3PO\n",
      "R2-D2\n",
      "R5-D4\n",
      "IG-88\n",
      "BB8\n"
     ]
    }
   ],
   "source": [
    "droids =[]\n",
    "for url in data_species['people']:\n",
    "    response = requests.get(url)\n",
    "    data_species_url = response.json()\n",
    "    droids += [data_species_url]\n",
    "\n",
    "for droid in droids:\n",
    "    print(droid['name'])    \n"
   ]
  },
  {
   "cell_type": "code",
   "execution_count": null,
   "metadata": {},
   "outputs": [],
   "source": []
  },
  {
   "cell_type": "code",
   "execution_count": null,
   "metadata": {},
   "outputs": [],
   "source": []
  },
  {
   "cell_type": "markdown",
   "metadata": {},
   "source": [
    "## 11) Get a list of every single planet in the Star Wars universe\n",
    "\n",
    "* *Tip: You'll want to use the API documentation for this, I think*"
   ]
  },
  {
   "cell_type": "code",
   "execution_count": 85,
   "metadata": {},
   "outputs": [
    {
     "name": "stdout",
     "output_type": "stream",
     "text": [
      "['Tatooine', 'Alderaan', 'Yavin IV', 'Hoth', 'Dagobah', 'Bespin', 'Endor', 'Naboo', 'Coruscant', 'Kamino', 'Geonosis', 'Utapau', 'Mustafar', 'Kashyyyk', 'Polis Massa', 'Mygeeto', 'Felucia', 'Cato Neimoidia', 'Saleucami', 'Stewjon', 'Eriadu', 'Corellia', 'Rodia', 'Nal Hutta', 'Dantooine', 'Bestine IV', 'Ord Mantell', 'unknown', 'Trandosha', 'Socorro', 'Mon Cala', 'Chandrila', 'Sullust', 'Toydaria', 'Malastare', 'Dathomir', 'Ryloth', 'Aleen Minor', 'Vulpter', 'Troiken', 'Tund', 'Haruun Kal', 'Cerea', 'Glee Anselm', 'Iridonia', 'Tholoth', 'Iktotch', 'Quermia', 'Dorin', 'Champala', 'Mirial', 'Serenno', 'Concord Dawn', 'Zolan', 'Ojom', 'Skako', 'Muunilinst', 'Shili', 'Kalee', 'Umbara', 'Jakku']\n",
      "61\n"
     ]
    }
   ],
   "source": [
    "planets = []\n",
    "for i in range(1,62):\n",
    "    response = requests.get(f'https://swapi.co/api/planets/{i}/')\n",
    "    planet = response.json()\n",
    "    planets += [planet['name']] \n",
    "print(planets)\n",
    "print(len(planets))"
   ]
  },
  {
   "cell_type": "code",
   "execution_count": null,
   "metadata": {},
   "outputs": [],
   "source": []
  },
  {
   "cell_type": "code",
   "execution_count": null,
   "metadata": {},
   "outputs": [],
   "source": []
  },
  {
   "cell_type": "markdown",
   "metadata": {},
   "source": [
    "## 12) How many plants are there? Show me two different ways of displaying the answer.\n",
    "\n",
    "* *Tip: They won't match*"
   ]
  },
  {
   "cell_type": "code",
   "execution_count": null,
   "metadata": {},
   "outputs": [],
   "source": [
    "#https://swapi.co/api/planets/ look under count"
   ]
  },
  {
   "cell_type": "code",
   "execution_count": null,
   "metadata": {},
   "outputs": [],
   "source": [
    "# len(planets) = 61 "
   ]
  },
  {
   "cell_type": "code",
   "execution_count": null,
   "metadata": {},
   "outputs": [],
   "source": [
    "# they do match? "
   ]
  },
  {
   "cell_type": "markdown",
   "metadata": {},
   "source": [
    "# These questions are all list comprehension questions, if you'd like\n",
    "\n",
    "## 13) Get the population of each of the planets\n",
    "\n",
    "* *Tip: Only use the 10 results for now*\n",
    "* *Tip: Use a list comprehension*"
   ]
  },
  {
   "cell_type": "code",
   "execution_count": 86,
   "metadata": {},
   "outputs": [
    {
     "name": "stdout",
     "output_type": "stream",
     "text": [
      "['200000', '2000000000', '1000', 'unknown', 'unknown', '6000000', '30000000', '4500000000', '1000000000000', '1000000000', '100000000000', '95000000', '20000', '45000000', '1000000', '19000000', '8500000', '10000000', '1400000000', 'unknown', '22000000000', '3000000000', '1300000000', '7000000000', '1000', '62000000', '4000000000', 'unknown', '42000000', '300000000', '27000000000', '1200000000', '18500000000', '11000000', '2000000000', '5200', '1500000000', 'unknown', '421000000', 'unknown', '0', '705300', '450000000', '500000000', 'unknown', 'unknown', 'unknown', 'unknown', 'unknown', '3500000000', 'unknown', 'unknown', 'unknown', 'unknown', '500000000', '500000000000', '5000000000', 'unknown', '4000000000', 'unknown', 'unknown']\n",
      "61\n"
     ]
    }
   ],
   "source": [
    "planets_pop = []\n",
    "for i in range(1,62):\n",
    "    response = requests.get(f'https://swapi.co/api/planets/{i}/')\n",
    "    planet = response.json()\n",
    "    planets_pop += [planet['population']] \n",
    "print(planets_pop)\n",
    "print(len(planets))"
   ]
  },
  {
   "cell_type": "code",
   "execution_count": null,
   "metadata": {},
   "outputs": [],
   "source": []
  },
  {
   "cell_type": "code",
   "execution_count": null,
   "metadata": {},
   "outputs": [],
   "source": []
  },
  {
   "cell_type": "markdown",
   "metadata": {},
   "source": [
    "## 14) Get the population of each of the planets, EXCEPT the ones that have a population of `'unknown'`\n",
    "\n",
    "* *Tip: Use a list comprehension with a filter (that's the `..if..` part at the end)*"
   ]
  },
  {
   "cell_type": "code",
   "execution_count": 87,
   "metadata": {},
   "outputs": [
    {
     "name": "stdout",
     "output_type": "stream",
     "text": [
      "['200000', '2000000000', '1000', '6000000', '30000000', '4500000000', '1000000000000', '1000000000', '100000000000', '95000000', '20000', '45000000', '1000000', '19000000', '8500000', '10000000', '1400000000', '22000000000', '3000000000', '1300000000', '7000000000', '1000', '62000000', '4000000000', '42000000', '300000000', '27000000000', '1200000000', '18500000000', '11000000', '2000000000', '5200', '1500000000', '421000000', '0', '705300', '450000000', '500000000', '3500000000', '500000000', '500000000000', '5000000000', '4000000000']\n",
      "61\n"
     ]
    }
   ],
   "source": [
    "planets_pop = []\n",
    "for i in range(1,62):\n",
    "    response = requests.get(f'https://swapi.co/api/planets/{i}/')\n",
    "    planet = response.json()\n",
    "    if planet['population'] != 'unknown':\n",
    "        planets_pop += [planet['population']] \n",
    "print(planets_pop)\n",
    "print(len(planets))"
   ]
  },
  {
   "cell_type": "code",
   "execution_count": null,
   "metadata": {},
   "outputs": [],
   "source": []
  },
  {
   "cell_type": "code",
   "execution_count": null,
   "metadata": {},
   "outputs": [],
   "source": []
  },
  {
   "cell_type": "markdown",
   "metadata": {},
   "source": [
    "## 14) Add up the populations\n",
    "\n",
    "* *Tip: They're strings right now, so it isn't going to work unless you change something about them*"
   ]
  },
  {
   "cell_type": "code",
   "execution_count": 88,
   "metadata": {},
   "outputs": [
    {
     "name": "stdout",
     "output_type": "stream",
     "text": [
      "[200000, 2000000000, 1000, 6000000, 30000000, 4500000000, 1000000000000, 1000000000, 100000000000, 95000000, 20000, 45000000, 1000000, 19000000, 8500000, 10000000, 1400000000, 22000000000, 3000000000, 1300000000, 7000000000, 1000, 62000000, 4000000000, 42000000, 300000000, 27000000000, 1200000000, 18500000000, 11000000, 2000000000, 5200, 1500000000, 421000000, 0, 705300, 450000000, 500000000, 3500000000, 500000000, 500000000000, 5000000000, 4000000000]\n",
      "61\n"
     ]
    }
   ],
   "source": [
    "planets_pop = []\n",
    "sum_pop = 0\n",
    "for i in range(1,62):\n",
    "    response = requests.get(f'https://swapi.co/api/planets/{i}/')\n",
    "    planet = response.json()\n",
    "    if planet['population'] != 'unknown':\n",
    "        planets_pop += [int(planet['population'])] \n",
    "        sum_pop += float(planet['population'])\n",
    "print(planets_pop)\n",
    "print(len(planets))"
   ]
  },
  {
   "cell_type": "code",
   "execution_count": 89,
   "metadata": {},
   "outputs": [
    {
     "name": "stdout",
     "output_type": "stream",
     "text": [
      "1711401432500.0\n"
     ]
    }
   ],
   "source": [
    "print(sum_pop)"
   ]
  },
  {
   "cell_type": "code",
   "execution_count": null,
   "metadata": {},
   "outputs": [],
   "source": []
  },
  {
   "cell_type": "markdown",
   "metadata": {},
   "source": [
    "## 15) Print what percentage of the total population each planet has\n",
    "\n",
    "I would like the sentences to be `\"The planet ____ has a population of _____, which is ___% of the total population\"`. If we don't know the planet's population, say `\"We don't know the population of _____\"`.\n",
    "\n",
    "* *Tip: This finally uses a for loop, but also the result of the last question*"
   ]
  },
  {
   "cell_type": "code",
   "execution_count": 94,
   "metadata": {},
   "outputs": [
    {
     "name": "stdout",
     "output_type": "stream",
     "text": [
      "The planet Tatooine has a population of 200000, which is planet['percentage'] of the total population.\n",
      "The planet Alderaan has a population of 2000000000, which is planet['percentage'] of the total population.\n",
      "The planet Yavin IV has a population of 1000, which is planet['percentage'] of the total population.\n",
      "We don't know the population of Hoth.\n",
      "We don't know the population of Dagobah.\n",
      "The planet Bespin has a population of 6000000, which is planet['percentage'] of the total population.\n",
      "The planet Endor has a population of 30000000, which is planet['percentage'] of the total population.\n",
      "The planet Naboo has a population of 4500000000, which is planet['percentage'] of the total population.\n",
      "The planet Coruscant has a population of 1000000000000, which is planet['percentage'] of the total population.\n",
      "The planet Kamino has a population of 1000000000, which is planet['percentage'] of the total population.\n",
      "The planet Geonosis has a population of 100000000000, which is planet['percentage'] of the total population.\n",
      "The planet Utapau has a population of 95000000, which is planet['percentage'] of the total population.\n",
      "The planet Mustafar has a population of 20000, which is planet['percentage'] of the total population.\n",
      "The planet Kashyyyk has a population of 45000000, which is planet['percentage'] of the total population.\n",
      "The planet Polis Massa has a population of 1000000, which is planet['percentage'] of the total population.\n",
      "The planet Mygeeto has a population of 19000000, which is planet['percentage'] of the total population.\n",
      "The planet Felucia has a population of 8500000, which is planet['percentage'] of the total population.\n",
      "The planet Cato Neimoidia has a population of 10000000, which is planet['percentage'] of the total population.\n",
      "The planet Saleucami has a population of 1400000000, which is planet['percentage'] of the total population.\n",
      "We don't know the population of Stewjon.\n",
      "The planet Eriadu has a population of 22000000000, which is planet['percentage'] of the total population.\n",
      "The planet Corellia has a population of 3000000000, which is planet['percentage'] of the total population.\n",
      "The planet Rodia has a population of 1300000000, which is planet['percentage'] of the total population.\n",
      "The planet Nal Hutta has a population of 7000000000, which is planet['percentage'] of the total population.\n",
      "The planet Dantooine has a population of 1000, which is planet['percentage'] of the total population.\n",
      "The planet Bestine IV has a population of 62000000, which is planet['percentage'] of the total population.\n",
      "The planet Ord Mantell has a population of 4000000000, which is planet['percentage'] of the total population.\n",
      "We don't know the population of unknown.\n",
      "The planet Trandosha has a population of 42000000, which is planet['percentage'] of the total population.\n",
      "The planet Socorro has a population of 300000000, which is planet['percentage'] of the total population.\n",
      "The planet Mon Cala has a population of 27000000000, which is planet['percentage'] of the total population.\n",
      "The planet Chandrila has a population of 1200000000, which is planet['percentage'] of the total population.\n",
      "The planet Sullust has a population of 18500000000, which is planet['percentage'] of the total population.\n",
      "The planet Toydaria has a population of 11000000, which is planet['percentage'] of the total population.\n",
      "The planet Malastare has a population of 2000000000, which is planet['percentage'] of the total population.\n",
      "The planet Dathomir has a population of 5200, which is planet['percentage'] of the total population.\n",
      "The planet Ryloth has a population of 1500000000, which is planet['percentage'] of the total population.\n",
      "We don't know the population of Aleen Minor.\n",
      "The planet Vulpter has a population of 421000000, which is planet['percentage'] of the total population.\n",
      "We don't know the population of Troiken.\n",
      "The planet Tund has a population of 0, which is planet['percentage'] of the total population.\n",
      "The planet Haruun Kal has a population of 705300, which is planet['percentage'] of the total population.\n",
      "The planet Cerea has a population of 450000000, which is planet['percentage'] of the total population.\n",
      "The planet Glee Anselm has a population of 500000000, which is planet['percentage'] of the total population.\n",
      "We don't know the population of Iridonia.\n",
      "We don't know the population of Tholoth.\n",
      "We don't know the population of Iktotch.\n",
      "We don't know the population of Quermia.\n",
      "We don't know the population of Dorin.\n",
      "The planet Champala has a population of 3500000000, which is planet['percentage'] of the total population.\n",
      "We don't know the population of Mirial.\n",
      "We don't know the population of Serenno.\n",
      "We don't know the population of Concord Dawn.\n",
      "We don't know the population of Zolan.\n",
      "The planet Ojom has a population of 500000000, which is planet['percentage'] of the total population.\n",
      "The planet Skako has a population of 500000000000, which is planet['percentage'] of the total population.\n",
      "The planet Muunilinst has a population of 5000000000, which is planet['percentage'] of the total population.\n",
      "We don't know the population of Shili.\n",
      "The planet Kalee has a population of 4000000000, which is planet['percentage'] of the total population.\n",
      "We don't know the population of Umbara.\n",
      "We don't know the population of Jakku.\n",
      "[200000, 2000000000, 1000, 6000000, 30000000, 4500000000, 1000000000000, 1000000000, 100000000000, 95000000, 20000, 45000000, 1000000, 19000000, 8500000, 10000000, 1400000000, 22000000000, 3000000000, 1300000000, 7000000000, 1000, 62000000, 4000000000, 42000000, 300000000, 27000000000, 1200000000, 18500000000, 11000000, 2000000000, 5200, 1500000000, 421000000, 0, 705300, 450000000, 500000000, 3500000000, 500000000, 500000000000, 5000000000, 4000000000, 200000, 2000000000, 1000, 6000000, 30000000, 4500000000, 1000000000000, 1000000000, 100000000000, 95000000, 20000, 45000000, 1000000, 19000000, 8500000, 10000000, 1400000000, 22000000000, 3000000000, 1300000000, 7000000000, 1000, 62000000, 4000000000, 42000000, 300000000, 27000000000, 1200000000, 18500000000, 11000000, 2000000000, 5200, 1500000000, 421000000, 0, 705300, 450000000, 500000000, 3500000000, 500000000, 500000000000, 5000000000, 4000000000, 200000, 2000000000, 1000, 6000000, 30000000, 4500000000, 1000000000000, 1000000000, 100000000000, 95000000, 20000, 45000000, 1000000, 19000000, 8500000, 10000000, 1400000000, 22000000000, 3000000000, 1300000000, 7000000000, 1000, 62000000, 4000000000, 42000000, 300000000, 27000000000, 1200000000, 18500000000, 11000000, 2000000000, 5200, 1500000000, 421000000, 0, 705300, 450000000, 500000000, 3500000000, 500000000, 500000000000, 5000000000, 4000000000, 200000, 2000000000, 1000, 6000000, 30000000, 4500000000, 1000000000000, 1000000000, 100000000000, 95000000, 20000, 45000000, 1000000, 19000000, 8500000, 10000000, 1400000000, 22000000000, 3000000000, 1300000000, 7000000000, 1000, 62000000, 4000000000, 42000000, 300000000, 27000000000, 1200000000, 18500000000, 11000000, 2000000000, 5200, 1500000000, 421000000, 0, 705300, 450000000, 500000000, 3500000000, 500000000, 500000000000, 5000000000, 4000000000]\n"
     ]
    }
   ],
   "source": [
    "for i in range(1,62):\n",
    "    response = requests.get(f'https://swapi.co/api/planets/{i}/')\n",
    "    planet = response.json()\n",
    "    if planet['population'] != 'unknown':\n",
    "        planets_pop += [int(planet['population'])] \n",
    "        planet['percentage'] = 100*int(planet['population'])/sum_pop\n",
    "        print(f\"The planet {planet['name']} has a population of {planet['population']}, which is planet['percentage'] of the total population.\")        \n",
    "    else:\n",
    "        print(f\"We don't know the population of {planet['name']}.\")\n",
    "print(planets_pop)"
   ]
  },
  {
   "cell_type": "code",
   "execution_count": null,
   "metadata": {},
   "outputs": [],
   "source": [
    "sum_pop "
   ]
  },
  {
   "cell_type": "code",
   "execution_count": null,
   "metadata": {},
   "outputs": [],
   "source": []
  }
 ],
 "metadata": {
  "kernelspec": {
   "display_name": "Python 3",
   "language": "python",
   "name": "python3"
  },
  "language_info": {
   "codemirror_mode": {
    "name": "ipython",
    "version": 3
   },
   "file_extension": ".py",
   "mimetype": "text/x-python",
   "name": "python",
   "nbconvert_exporter": "python",
   "pygments_lexer": "ipython3",
   "version": "3.6.5"
  }
 },
 "nbformat": 4,
 "nbformat_minor": 2
}
